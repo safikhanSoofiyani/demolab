{
  "nbformat": 4,
  "nbformat_minor": 0,
  "metadata": {
    "colab": {
      "name": "demo.ipynb",
      "provenance": [],
      "include_colab_link": true
    },
    "kernelspec": {
      "name": "python3",
      "display_name": "Python 3"
    },
    "language_info": {
      "name": "python"
    }
  },
  "cells": [
    {
      "cell_type": "markdown",
      "metadata": {
        "id": "view-in-github",
        "colab_type": "text"
      },
      "source": [
        "<a href=\"https://colab.research.google.com/github/safikhanSoofiyani/demolab/blob/main/demo.ipynb\" target=\"_parent\"><img src=\"https://colab.research.google.com/assets/colab-badge.svg\" alt=\"Open In Colab\"/></a>"
      ]
    },
    {
      "cell_type": "code",
      "execution_count": null,
      "metadata": {
        "id": "bP8DN1Ntam_1",
        "outputId": "a51790fe-d757-463a-c36b-892ef4af359d",
        "colab": {
          "base_uri": "https://localhost:8080/"
        }
      },
      "outputs": [
        {
          "output_type": "stream",
          "name": "stdout",
          "text": [
            "Hello World from Safikhan\n"
          ]
        }
      ],
      "source": [
        "print(\"Hello World from Safikhan\")"
      ]
    },
    {
      "cell_type": "code",
      "source": [
        "print(\"Dummy 1\")"
      ],
      "metadata": {
        "id": "luyR6RCwcasC"
      },
      "execution_count": null,
      "outputs": []
    },
    {
      "cell_type": "code",
      "source": [
        "print(\"Hello World from gorilla\")"
      ],
      "metadata": {
        "id": "Q5wGYwgfb2cL",
        "outputId": "5802ccef-6199-4156-9531-1bcdfc41c78a",
        "colab": {
          "base_uri": "https://localhost:8080/"
        }
      },
      "execution_count": null,
      "outputs": [
        {
          "output_type": "stream",
          "name": "stdout",
          "text": [
            "Hello World from gorilla\n"
          ]
        }
      ]
    }
  ]
}